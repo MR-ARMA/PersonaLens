{
 "cells": [
  {
   "cell_type": "code",
   "execution_count": 1,
   "id": "d3c03f6c",
   "metadata": {
    "execution": {
     "iopub.execute_input": "2024-11-05T08:36:55.129680Z",
     "iopub.status.busy": "2024-11-05T08:36:55.129221Z",
     "iopub.status.idle": "2024-11-05T08:37:26.787538Z",
     "shell.execute_reply": "2024-11-05T08:37:26.786053Z"
    },
    "papermill": {
     "duration": 31.66842,
     "end_time": "2024-11-05T08:37:26.790739",
     "exception": false,
     "start_time": "2024-11-05T08:36:55.122319",
     "status": "completed"
    },
    "tags": []
   },
   "outputs": [
    {
     "name": "stdout",
     "output_type": "stream",
     "text": [
      "Collecting emot\r\n",
      "  Downloading emot-3.1-py3-none-any.whl.metadata (396 bytes)\r\n",
      "Downloading emot-3.1-py3-none-any.whl (61 kB)\r\n",
      "\u001b[2K   \u001b[90m━━━━━━━━━━━━━━━━━━━━━━━━━━━━━━━━━━━━━━━━\u001b[0m \u001b[32m61.5/61.5 kB\u001b[0m \u001b[31m1.4 MB/s\u001b[0m eta \u001b[36m0:00:00\u001b[0m\r\n",
      "\u001b[?25hInstalling collected packages: emot\r\n",
      "Successfully installed emot-3.1\r\n",
      "Collecting contractions\r\n",
      "  Downloading contractions-0.1.73-py2.py3-none-any.whl.metadata (1.2 kB)\r\n",
      "Collecting textsearch>=0.0.21 (from contractions)\r\n",
      "  Downloading textsearch-0.0.24-py2.py3-none-any.whl.metadata (1.2 kB)\r\n",
      "Collecting anyascii (from textsearch>=0.0.21->contractions)\r\n",
      "  Downloading anyascii-0.3.2-py3-none-any.whl.metadata (1.5 kB)\r\n",
      "Collecting pyahocorasick (from textsearch>=0.0.21->contractions)\r\n",
      "  Downloading pyahocorasick-2.1.0-cp310-cp310-manylinux_2_5_x86_64.manylinux1_x86_64.manylinux_2_12_x86_64.manylinux2010_x86_64.whl.metadata (13 kB)\r\n",
      "Downloading contractions-0.1.73-py2.py3-none-any.whl (8.7 kB)\r\n",
      "Downloading textsearch-0.0.24-py2.py3-none-any.whl (7.6 kB)\r\n",
      "Downloading anyascii-0.3.2-py3-none-any.whl (289 kB)\r\n",
      "\u001b[2K   \u001b[90m━━━━━━━━━━━━━━━━━━━━━━━━━━━━━━━━━━━━━━━━\u001b[0m \u001b[32m289.9/289.9 kB\u001b[0m \u001b[31m5.5 MB/s\u001b[0m eta \u001b[36m0:00:00\u001b[0m\r\n",
      "\u001b[?25hDownloading pyahocorasick-2.1.0-cp310-cp310-manylinux_2_5_x86_64.manylinux1_x86_64.manylinux_2_12_x86_64.manylinux2010_x86_64.whl (110 kB)\r\n",
      "\u001b[2K   \u001b[90m━━━━━━━━━━━━━━━━━━━━━━━━━━━━━━━━━━━━━━━━\u001b[0m \u001b[32m110.7/110.7 kB\u001b[0m \u001b[31m5.3 MB/s\u001b[0m eta \u001b[36m0:00:00\u001b[0m\r\n",
      "\u001b[?25hInstalling collected packages: pyahocorasick, anyascii, textsearch, contractions\r\n",
      "Successfully installed anyascii-0.3.2 contractions-0.1.73 pyahocorasick-2.1.0 textsearch-0.0.24\r\n"
     ]
    }
   ],
   "source": [
    "!pip install emot\n",
    "!pip install contractions"
   ]
  },
  {
   "cell_type": "code",
   "execution_count": 2,
   "id": "965c2618",
   "metadata": {
    "execution": {
     "iopub.execute_input": "2024-11-05T08:37:26.806461Z",
     "iopub.status.busy": "2024-11-05T08:37:26.805272Z",
     "iopub.status.idle": "2024-11-05T08:38:12.062736Z",
     "shell.execute_reply": "2024-11-05T08:38:12.061448Z"
    },
    "papermill": {
     "duration": 45.268705,
     "end_time": "2024-11-05T08:38:12.065937",
     "exception": false,
     "start_time": "2024-11-05T08:37:26.797232",
     "status": "completed"
    },
    "tags": []
   },
   "outputs": [],
   "source": [
    "import numpy as np\n",
    "import pandas as pd\n",
    "import re\n",
    "import emot\n",
    "import tensorflow as tf\n",
    "from tensorflow.keras.preprocessing.sequence import pad_sequences\n",
    "from gensim.utils import tokenize as gensim_tokenize\n",
    "import contractions\n",
    "import pickle\n",
    "\n",
    "# Configuration\n",
    "pd.options.display.max_rows = 250\n",
    "pd.options.display.max_colwidth = 200\n",
    "contractions.add('e.g.', 'for example')\n",
    "contractions.add('T.G.I.F.', 'thank God it is Friday')\n"
   ]
  },
  {
   "cell_type": "code",
   "execution_count": 3,
   "id": "542c292b",
   "metadata": {
    "execution": {
     "iopub.execute_input": "2024-11-05T08:38:12.080879Z",
     "iopub.status.busy": "2024-11-05T08:38:12.080051Z",
     "iopub.status.idle": "2024-11-05T08:38:12.117479Z",
     "shell.execute_reply": "2024-11-05T08:38:12.116052Z"
    },
    "papermill": {
     "duration": 0.048125,
     "end_time": "2024-11-05T08:38:12.120546",
     "exception": false,
     "start_time": "2024-11-05T08:38:12.072421",
     "status": "completed"
    },
    "tags": []
   },
   "outputs": [],
   "source": [
    "# Emoji and emoticon conversion\n",
    "UNICODE_EMO = {v: k[1:-1] for v, k in emot.UNICODE_EMOJI.items()}\n",
    "\n",
    "def convert_emojis(text):\n",
    "    for emoji, meaning in UNICODE_EMO.items():\n",
    "        text = text.replace(emoji, meaning)\n",
    "    return text\n",
    "\n",
    "def convert_emoticons(text):\n",
    "    for emoticon, meaning in emot.EMOTICONS_EMO.items():\n",
    "        emoticon = re.escape(emoticon)\n",
    "        text = re.sub(emoticon, meaning, text)\n",
    "    return text\n",
    "\n",
    "# Text preprocessing\n",
    "def process_and_tokenize(text):\n",
    "    \"\"\"\n",
    "    1. Replace URLs in text\n",
    "    2. Replace emojis and emoticons with their meanings\n",
    "    3. Replace contractions with expanded forms\n",
    "    4. Tokenize text\n",
    "    \"\"\"\n",
    "    text = re.sub('http[s]?://(?:[a-zA-Z]|[0-9]|[$-_@.&+]|(?:%[0-9a-fA-F][0-9a-fA-F]))+', 'url', text).strip()\n",
    "    text = convert_emojis(text)\n",
    "    text = convert_emoticons(text)\n",
    "    text = contractions.fix(text)\n",
    "    return list(gensim_tokenize(text, lower=True))\n",
    "\n",
    "# Preprocess a new input text\n",
    "def preprocess_text(text, vocab):\n",
    "    tokenized = process_and_tokenize(text)\n",
    "    token_idxs = [vocab[word] for word in tokenized if word in vocab]\n",
    "    token_idxs_padded = pad_sequences([token_idxs], maxlen=40, value=0., padding='pre', truncating='pre')\n",
    "    return token_idxs_padded\n",
    "\n",
    "# Load vocabulary and models\n",
    "with open('/kaggle/input/my-vocab/vocab.pkl', 'rb') as pkl_file:\n",
    "    vocab = pickle.load(pkl_file)\n"
   ]
  },
  {
   "cell_type": "code",
   "execution_count": 4,
   "id": "c7856614",
   "metadata": {
    "execution": {
     "iopub.execute_input": "2024-11-05T08:38:12.135445Z",
     "iopub.status.busy": "2024-11-05T08:38:12.134955Z",
     "iopub.status.idle": "2024-11-05T08:38:12.140811Z",
     "shell.execute_reply": "2024-11-05T08:38:12.139683Z"
    },
    "papermill": {
     "duration": 0.016829,
     "end_time": "2024-11-05T08:38:12.143760",
     "exception": false,
     "start_time": "2024-11-05T08:38:12.126931",
     "status": "completed"
    },
    "tags": []
   },
   "outputs": [],
   "source": [
    "# Predict MBTI type\n",
    "one_slice = ['I', 'S', 'F', 'J']  # MBTI indicators\n",
    "opposite = ['E', 'N', 'T', 'P']   # Opposite indicators"
   ]
  },
  {
   "cell_type": "code",
   "execution_count": 5,
   "id": "aa29e58c",
   "metadata": {
    "execution": {
     "iopub.execute_input": "2024-11-05T08:38:12.159291Z",
     "iopub.status.busy": "2024-11-05T08:38:12.157925Z",
     "iopub.status.idle": "2024-11-05T08:38:13.525918Z",
     "shell.execute_reply": "2024-11-05T08:38:13.524839Z"
    },
    "papermill": {
     "duration": 1.378762,
     "end_time": "2024-11-05T08:38:13.528878",
     "exception": false,
     "start_time": "2024-11-05T08:38:12.150116",
     "status": "completed"
    },
    "tags": []
   },
   "outputs": [
    {
     "name": "stderr",
     "output_type": "stream",
     "text": [
      "/opt/conda/lib/python3.10/site-packages/keras/src/layers/layer.py:877: UserWarning: Layer 'FlattenLSTMOutputs' (of type Flatten) was passed an input with a mask attached to it. However, this layer does not support masking and will therefore destroy the mask information. Downstream layers will not see the mask.\n",
      "  warnings.warn(\n"
     ]
    }
   ],
   "source": [
    "model_1 = tf.keras.models.load_model('/kaggle/input/all_model/tensorflow2/default/1/GloVe_GRU.h5')\n",
    "model_2 = tf.keras.models.load_model('/kaggle/input/all_model/tensorflow2/default/1/GloVe_LSTM.h5')\n",
    "model_3 = tf.keras.models.load_model('/kaggle/input/all_model/tensorflow2/default/1/Word2Vec_GRU.h5')\n",
    "model_4 = tf.keras.models.load_model('/kaggle/input/all_model/tensorflow2/default/1/Word2Vec_LSTM.h5')"
   ]
  },
  {
   "cell_type": "code",
   "execution_count": 6,
   "id": "b09a0732",
   "metadata": {
    "execution": {
     "iopub.execute_input": "2024-11-05T08:38:13.544355Z",
     "iopub.status.busy": "2024-11-05T08:38:13.543158Z",
     "iopub.status.idle": "2024-11-05T08:38:13.566497Z",
     "shell.execute_reply": "2024-11-05T08:38:13.565189Z"
    },
    "papermill": {
     "duration": 0.033979,
     "end_time": "2024-11-05T08:38:13.569290",
     "exception": false,
     "start_time": "2024-11-05T08:38:13.535311",
     "status": "completed"
    },
    "tags": []
   },
   "outputs": [],
   "source": [
    "text = \"read\"\n",
    "processed_text = preprocess_text(text, vocab)"
   ]
  },
  {
   "cell_type": "code",
   "execution_count": 7,
   "id": "a451885e",
   "metadata": {
    "execution": {
     "iopub.execute_input": "2024-11-05T08:38:13.584298Z",
     "iopub.status.busy": "2024-11-05T08:38:13.583817Z",
     "iopub.status.idle": "2024-11-05T08:38:15.365008Z",
     "shell.execute_reply": "2024-11-05T08:38:15.363795Z"
    },
    "papermill": {
     "duration": 1.792003,
     "end_time": "2024-11-05T08:38:15.367609",
     "exception": false,
     "start_time": "2024-11-05T08:38:13.575606",
     "status": "completed"
    },
    "tags": []
   },
   "outputs": [
    {
     "name": "stdout",
     "output_type": "stream",
     "text": [
      "\u001b[1m1/1\u001b[0m \u001b[32m━━━━━━━━━━━━━━━━━━━━\u001b[0m\u001b[37m\u001b[0m \u001b[1m0s\u001b[0m 388ms/step\n",
      "Model 1 - Predicted MBTI type: ISFJ with confidence: 0.6840\n",
      "\u001b[1m1/1\u001b[0m \u001b[32m━━━━━━━━━━━━━━━━━━━━\u001b[0m\u001b[37m\u001b[0m \u001b[1m0s\u001b[0m 277ms/step\n",
      "Model 2 - Predicted MBTI type: ISTJ with confidence: 0.6660\n",
      "\u001b[1m1/1\u001b[0m \u001b[32m━━━━━━━━━━━━━━━━━━━━\u001b[0m\u001b[37m\u001b[0m \u001b[1m0s\u001b[0m 302ms/step\n",
      "Model 3 - Predicted MBTI type: ISTJ with confidence: 0.6790\n",
      "\u001b[1m1/1\u001b[0m \u001b[32m━━━━━━━━━━━━━━━━━━━━\u001b[0m\u001b[37m\u001b[0m \u001b[1m0s\u001b[0m 276ms/step\n",
      "Model 4 - Predicted MBTI type: ISTJ with confidence: 0.6761\n",
      "\n",
      "MBTI type with the highest confidence: ISFJ (Confidence: 0.6840)\n"
     ]
    }
   ],
   "source": [
    "# Dictionary to store model predictions and their confidence scores\n",
    "predictions = {}\n",
    "\n",
    "for i, model in enumerate([model_1, model_2, model_3, model_4], 1):\n",
    "    # Get prediction probabilities\n",
    "    prediction = model.predict(processed_text)[0]\n",
    "    \n",
    "    # Calculate confidence score as the mean probability across all four MBTI dimensions\n",
    "    confidence_score = np.mean(prediction)\n",
    "    \n",
    "    # Determine MBTI type based on probability thresholds (0.5)\n",
    "    mbti_type = ''.join([one if prob > 0.5 else opp for one, opp, prob in zip(one_slice, opposite, prediction)])\n",
    "    \n",
    "    # Store the MBTI type and its confidence score\n",
    "    predictions[mbti_type] = confidence_score\n",
    "    print(f\"Model {i} - Predicted MBTI type: {mbti_type} with confidence: {confidence_score:.4f}\")\n",
    "\n",
    "# Find the MBTI type with the highest confidence score\n",
    "best_mbti_type = max(predictions, key=predictions.get)\n",
    "best_confidence = predictions[best_mbti_type]\n",
    "\n",
    "# Output the best MBTI type with the highest confidence\n",
    "print(f\"\\nMBTI type with the highest confidence: {best_mbti_type} (Confidence: {best_confidence:.4f})\")\n"
   ]
  },
  {
   "cell_type": "code",
   "execution_count": 8,
   "id": "9ecb79c2",
   "metadata": {
    "execution": {
     "iopub.execute_input": "2024-11-05T08:38:15.384599Z",
     "iopub.status.busy": "2024-11-05T08:38:15.384165Z",
     "iopub.status.idle": "2024-11-05T08:38:16.007152Z",
     "shell.execute_reply": "2024-11-05T08:38:16.005939Z"
    },
    "papermill": {
     "duration": 0.634388,
     "end_time": "2024-11-05T08:38:16.009766",
     "exception": false,
     "start_time": "2024-11-05T08:38:15.375378",
     "status": "completed"
    },
    "tags": []
   },
   "outputs": [
    {
     "name": "stdout",
     "output_type": "stream",
     "text": [
      "Detailed analysis of Model 1:\n",
      "\u001b[1m1/1\u001b[0m \u001b[32m━━━━━━━━━━━━━━━━━━━━\u001b[0m\u001b[37m\u001b[0m \u001b[1m0s\u001b[0m 23ms/step\n",
      "\n",
      "Dimension 1 (I/E):\n",
      "Raw prediction value: 0.7594\n",
      "Predicted class: I\n",
      "Confidence: 0.7594\n",
      "\n",
      "Dimension 2 (S/N):\n",
      "Raw prediction value: 0.8494\n",
      "Predicted class: S\n",
      "Confidence: 0.8494\n",
      "\n",
      "Dimension 3 (F/T):\n",
      "Raw prediction value: 0.5121\n",
      "Predicted class: F\n",
      "Confidence: 0.5121\n",
      "\n",
      "Dimension 4 (J/P):\n",
      "Raw prediction value: 0.6153\n",
      "Predicted class: J\n",
      "Confidence: 0.6153\n",
      "\u001b[1m1/1\u001b[0m \u001b[32m━━━━━━━━━━━━━━━━━━━━\u001b[0m\u001b[37m\u001b[0m \u001b[1m0s\u001b[0m 23ms/step\n",
      "\u001b[1m1/1\u001b[0m \u001b[32m━━━━━━━━━━━━━━━━━━━━\u001b[0m\u001b[37m\u001b[0m \u001b[1m0s\u001b[0m 23ms/step\n",
      "\u001b[1m1/1\u001b[0m \u001b[32m━━━━━━━━━━━━━━━━━━━━\u001b[0m\u001b[37m\u001b[0m \u001b[1m0s\u001b[0m 23ms/step\n",
      "\u001b[1m1/1\u001b[0m \u001b[32m━━━━━━━━━━━━━━━━━━━━\u001b[0m\u001b[37m\u001b[0m \u001b[1m0s\u001b[0m 23ms/step\n",
      "\u001b[1m1/1\u001b[0m \u001b[32m━━━━━━━━━━━━━━━━━━━━\u001b[0m\u001b[37m\u001b[0m \u001b[1m0s\u001b[0m 25ms/step\n",
      "\u001b[1m1/1\u001b[0m \u001b[32m━━━━━━━━━━━━━━━━━━━━\u001b[0m\u001b[37m\u001b[0m \u001b[1m0s\u001b[0m 24ms/step\n",
      "\n",
      "Results with diverse inputs:\n",
      "                                                           text prediction\n",
      "0  I love spending time alone reading books and thinking deeply       ISTJ\n",
      "1                        I enjoy parties and meeting new people       ISTJ\n",
      "2                         I focus on concrete facts and details       ISTJ\n",
      "3                      I enjoy thinking about abstract theories       ISTJ\n",
      "4                  I make decisions based on logic and analysis       ISTJ\n",
      "5                 I make decisions based on feelings and values       ISTJ\n",
      "\n",
      "Model Architecture:\n"
     ]
    },
    {
     "data": {
      "text/html": [
       "<pre style=\"white-space:pre;overflow-x:auto;line-height:normal;font-family:Menlo,'DejaVu Sans Mono',consolas,'Courier New',monospace\"><span style=\"font-weight: bold\">Model: \"Model\"</span>\n",
       "</pre>\n"
      ],
      "text/plain": [
       "\u001b[1mModel: \"Model\"\u001b[0m\n"
      ]
     },
     "metadata": {},
     "output_type": "display_data"
    },
    {
     "data": {
      "text/html": [
       "<pre style=\"white-space:pre;overflow-x:auto;line-height:normal;font-family:Menlo,'DejaVu Sans Mono',consolas,'Courier New',monospace\">┏━━━━━━━━━━━━━━━━━━━━━━━━━━━━━━━━━┳━━━━━━━━━━━━━━━━━━━━━━━━┳━━━━━━━━━━━━━━━┓\n",
       "┃<span style=\"font-weight: bold\"> Layer (type)                    </span>┃<span style=\"font-weight: bold\"> Output Shape           </span>┃<span style=\"font-weight: bold\">       Param # </span>┃\n",
       "┡━━━━━━━━━━━━━━━━━━━━━━━━━━━━━━━━━╇━━━━━━━━━━━━━━━━━━━━━━━━╇━━━━━━━━━━━━━━━┩\n",
       "│ GloVeEmbedding (<span style=\"color: #0087ff; text-decoration-color: #0087ff\">Embedding</span>)      │ (<span style=\"color: #00d7ff; text-decoration-color: #00d7ff\">None</span>, <span style=\"color: #00af00; text-decoration-color: #00af00\">40</span>, <span style=\"color: #00af00; text-decoration-color: #00af00\">100</span>)        │     <span style=\"color: #00af00; text-decoration-color: #00af00\">2,161,200</span> │\n",
       "├─────────────────────────────────┼────────────────────────┼───────────────┤\n",
       "│ DroppingEmbeddings              │ (<span style=\"color: #00d7ff; text-decoration-color: #00d7ff\">None</span>, <span style=\"color: #00af00; text-decoration-color: #00af00\">40</span>, <span style=\"color: #00af00; text-decoration-color: #00af00\">100</span>)        │             <span style=\"color: #00af00; text-decoration-color: #00af00\">0</span> │\n",
       "│ (<span style=\"color: #0087ff; text-decoration-color: #0087ff\">SpatialDropout1D</span>)              │                        │               │\n",
       "├─────────────────────────────────┼────────────────────────┼───────────────┤\n",
       "│ GRU (<span style=\"color: #0087ff; text-decoration-color: #0087ff\">GRU</span>)                       │ (<span style=\"color: #00d7ff; text-decoration-color: #00d7ff\">None</span>, <span style=\"color: #00af00; text-decoration-color: #00af00\">40</span>, <span style=\"color: #00af00; text-decoration-color: #00af00\">10</span>)         │         <span style=\"color: #00af00; text-decoration-color: #00af00\">3,360</span> │\n",
       "├─────────────────────────────────┼────────────────────────┼───────────────┤\n",
       "│ FlattenLSTMOutputs (<span style=\"color: #0087ff; text-decoration-color: #0087ff\">Flatten</span>)    │ (<span style=\"color: #00d7ff; text-decoration-color: #00d7ff\">None</span>, <span style=\"color: #00af00; text-decoration-color: #00af00\">400</span>)            │             <span style=\"color: #00af00; text-decoration-color: #00af00\">0</span> │\n",
       "├─────────────────────────────────┼────────────────────────┼───────────────┤\n",
       "│ HiddenLayer (<span style=\"color: #0087ff; text-decoration-color: #0087ff\">Dense</span>)             │ (<span style=\"color: #00d7ff; text-decoration-color: #00d7ff\">None</span>, <span style=\"color: #00af00; text-decoration-color: #00af00\">20</span>)             │         <span style=\"color: #00af00; text-decoration-color: #00af00\">8,020</span> │\n",
       "├─────────────────────────────────┼────────────────────────┼───────────────┤\n",
       "│ DroppingHiddenNodes (<span style=\"color: #0087ff; text-decoration-color: #0087ff\">Dropout</span>)   │ (<span style=\"color: #00d7ff; text-decoration-color: #00d7ff\">None</span>, <span style=\"color: #00af00; text-decoration-color: #00af00\">20</span>)             │             <span style=\"color: #00af00; text-decoration-color: #00af00\">0</span> │\n",
       "├─────────────────────────────────┼────────────────────────┼───────────────┤\n",
       "│ OutputLayer (<span style=\"color: #0087ff; text-decoration-color: #0087ff\">Dense</span>)             │ (<span style=\"color: #00d7ff; text-decoration-color: #00d7ff\">None</span>, <span style=\"color: #00af00; text-decoration-color: #00af00\">4</span>)              │            <span style=\"color: #00af00; text-decoration-color: #00af00\">84</span> │\n",
       "└─────────────────────────────────┴────────────────────────┴───────────────┘\n",
       "</pre>\n"
      ],
      "text/plain": [
       "┏━━━━━━━━━━━━━━━━━━━━━━━━━━━━━━━━━┳━━━━━━━━━━━━━━━━━━━━━━━━┳━━━━━━━━━━━━━━━┓\n",
       "┃\u001b[1m \u001b[0m\u001b[1mLayer (type)                   \u001b[0m\u001b[1m \u001b[0m┃\u001b[1m \u001b[0m\u001b[1mOutput Shape          \u001b[0m\u001b[1m \u001b[0m┃\u001b[1m \u001b[0m\u001b[1m      Param #\u001b[0m\u001b[1m \u001b[0m┃\n",
       "┡━━━━━━━━━━━━━━━━━━━━━━━━━━━━━━━━━╇━━━━━━━━━━━━━━━━━━━━━━━━╇━━━━━━━━━━━━━━━┩\n",
       "│ GloVeEmbedding (\u001b[38;5;33mEmbedding\u001b[0m)      │ (\u001b[38;5;45mNone\u001b[0m, \u001b[38;5;34m40\u001b[0m, \u001b[38;5;34m100\u001b[0m)        │     \u001b[38;5;34m2,161,200\u001b[0m │\n",
       "├─────────────────────────────────┼────────────────────────┼───────────────┤\n",
       "│ DroppingEmbeddings              │ (\u001b[38;5;45mNone\u001b[0m, \u001b[38;5;34m40\u001b[0m, \u001b[38;5;34m100\u001b[0m)        │             \u001b[38;5;34m0\u001b[0m │\n",
       "│ (\u001b[38;5;33mSpatialDropout1D\u001b[0m)              │                        │               │\n",
       "├─────────────────────────────────┼────────────────────────┼───────────────┤\n",
       "│ GRU (\u001b[38;5;33mGRU\u001b[0m)                       │ (\u001b[38;5;45mNone\u001b[0m, \u001b[38;5;34m40\u001b[0m, \u001b[38;5;34m10\u001b[0m)         │         \u001b[38;5;34m3,360\u001b[0m │\n",
       "├─────────────────────────────────┼────────────────────────┼───────────────┤\n",
       "│ FlattenLSTMOutputs (\u001b[38;5;33mFlatten\u001b[0m)    │ (\u001b[38;5;45mNone\u001b[0m, \u001b[38;5;34m400\u001b[0m)            │             \u001b[38;5;34m0\u001b[0m │\n",
       "├─────────────────────────────────┼────────────────────────┼───────────────┤\n",
       "│ HiddenLayer (\u001b[38;5;33mDense\u001b[0m)             │ (\u001b[38;5;45mNone\u001b[0m, \u001b[38;5;34m20\u001b[0m)             │         \u001b[38;5;34m8,020\u001b[0m │\n",
       "├─────────────────────────────────┼────────────────────────┼───────────────┤\n",
       "│ DroppingHiddenNodes (\u001b[38;5;33mDropout\u001b[0m)   │ (\u001b[38;5;45mNone\u001b[0m, \u001b[38;5;34m20\u001b[0m)             │             \u001b[38;5;34m0\u001b[0m │\n",
       "├─────────────────────────────────┼────────────────────────┼───────────────┤\n",
       "│ OutputLayer (\u001b[38;5;33mDense\u001b[0m)             │ (\u001b[38;5;45mNone\u001b[0m, \u001b[38;5;34m4\u001b[0m)              │            \u001b[38;5;34m84\u001b[0m │\n",
       "└─────────────────────────────────┴────────────────────────┴───────────────┘\n"
      ]
     },
     "metadata": {},
     "output_type": "display_data"
    },
    {
     "data": {
      "text/html": [
       "<pre style=\"white-space:pre;overflow-x:auto;line-height:normal;font-family:Menlo,'DejaVu Sans Mono',consolas,'Courier New',monospace\"><span style=\"font-weight: bold\"> Total params: </span><span style=\"color: #00af00; text-decoration-color: #00af00\">2,172,665</span> (8.29 MB)\n",
       "</pre>\n"
      ],
      "text/plain": [
       "\u001b[1m Total params: \u001b[0m\u001b[38;5;34m2,172,665\u001b[0m (8.29 MB)\n"
      ]
     },
     "metadata": {},
     "output_type": "display_data"
    },
    {
     "data": {
      "text/html": [
       "<pre style=\"white-space:pre;overflow-x:auto;line-height:normal;font-family:Menlo,'DejaVu Sans Mono',consolas,'Courier New',monospace\"><span style=\"font-weight: bold\"> Trainable params: </span><span style=\"color: #00af00; text-decoration-color: #00af00\">11,464</span> (44.78 KB)\n",
       "</pre>\n"
      ],
      "text/plain": [
       "\u001b[1m Trainable params: \u001b[0m\u001b[38;5;34m11,464\u001b[0m (44.78 KB)\n"
      ]
     },
     "metadata": {},
     "output_type": "display_data"
    },
    {
     "data": {
      "text/html": [
       "<pre style=\"white-space:pre;overflow-x:auto;line-height:normal;font-family:Menlo,'DejaVu Sans Mono',consolas,'Courier New',monospace\"><span style=\"font-weight: bold\"> Non-trainable params: </span><span style=\"color: #00af00; text-decoration-color: #00af00\">2,161,200</span> (8.24 MB)\n",
       "</pre>\n"
      ],
      "text/plain": [
       "\u001b[1m Non-trainable params: \u001b[0m\u001b[38;5;34m2,161,200\u001b[0m (8.24 MB)\n"
      ]
     },
     "metadata": {},
     "output_type": "display_data"
    },
    {
     "data": {
      "text/html": [
       "<pre style=\"white-space:pre;overflow-x:auto;line-height:normal;font-family:Menlo,'DejaVu Sans Mono',consolas,'Courier New',monospace\"><span style=\"font-weight: bold\"> Optimizer params: </span><span style=\"color: #00af00; text-decoration-color: #00af00\">1</span> (8.00 B)\n",
       "</pre>\n"
      ],
      "text/plain": [
       "\u001b[1m Optimizer params: \u001b[0m\u001b[38;5;34m1\u001b[0m (8.00 B)\n"
      ]
     },
     "metadata": {},
     "output_type": "display_data"
    },
    {
     "name": "stdout",
     "output_type": "stream",
     "text": [
      "\n",
      "Output layer activation: sigmoid\n"
     ]
    }
   ],
   "source": [
    "import numpy as np\n",
    "import tensorflow as tf\n",
    "import pandas as pd\n",
    "\n",
    "def analyze_model_predictions(model, processed_text, one_slice=['I', 'S', 'F', 'J'], opposite=['E', 'N', 'T', 'P']):\n",
    "    \"\"\"\n",
    "    Analyze the raw predictions of the model for each dimension.\n",
    "    \"\"\"\n",
    "    # Get raw predictions\n",
    "    predictions = model.predict(processed_text)[0]\n",
    "    \n",
    "    # Analyze each dimension\n",
    "    for dim_idx, (one, opp, pred) in enumerate(zip(one_slice, opposite, predictions)):\n",
    "        print(f\"\\nDimension {dim_idx + 1} ({one}/{opp}):\")\n",
    "        print(f\"Raw prediction value: {pred:.4f}\")\n",
    "        print(f\"Predicted class: {one if pred > 0.5 else opp}\")\n",
    "        print(f\"Confidence: {max(pred, 1-pred):.4f}\")\n",
    "\n",
    "def test_model_with_diverse_inputs(model, vocab, texts):\n",
    "    \"\"\"\n",
    "    Test the model with diverse inputs to check for variety in predictions.\n",
    "    \"\"\"\n",
    "    results = []\n",
    "    for text in texts:\n",
    "        processed = preprocess_text(text, vocab)\n",
    "        pred = model.predict(processed)[0]\n",
    "        mbti = ''.join([one if p > 0.5 else opp \n",
    "                       for one, opp, p in zip(one_slice, opposite, pred)])\n",
    "        results.append({\n",
    "            'text': text,\n",
    "            'prediction': mbti,\n",
    "            'raw_values': pred\n",
    "        })\n",
    "    return pd.DataFrame(results)\n",
    "\n",
    "# Example usage:\n",
    "print(\"Detailed analysis of Model 1:\")\n",
    "analyze_model_predictions(model_1, processed_text)\n",
    "\n",
    "# Test with diverse inputs\n",
    "test_texts = [\n",
    "    \"I love spending time alone reading books and thinking deeply\",  # Introverted\n",
    "    \"I enjoy parties and meeting new people\",                       # Extroverted\n",
    "    \"I focus on concrete facts and details\",                        # Sensing\n",
    "    \"I enjoy thinking about abstract theories\",                     # Intuitive\n",
    "    \"I make decisions based on logic and analysis\",                # Thinking\n",
    "    \"I make decisions based on feelings and values\"                # Feeling\n",
    "]\n",
    "\n",
    "results_df = test_model_with_diverse_inputs(model_1, vocab, test_texts)\n",
    "print(\"\\nResults with diverse inputs:\")\n",
    "print(results_df[['text', 'prediction']])\n",
    "\n",
    "# Add model inspection\n",
    "print(\"\\nModel Architecture:\")\n",
    "model_1.summary()\n",
    "\n",
    "# Check output layer activation\n",
    "output_layer = model_1.layers[-1]\n",
    "print(f\"\\nOutput layer activation: {output_layer.activation.__name__}\")"
   ]
  },
  {
   "cell_type": "code",
   "execution_count": null,
   "id": "f4891dc3",
   "metadata": {
    "papermill": {
     "duration": 0.010838,
     "end_time": "2024-11-05T08:38:16.031077",
     "exception": false,
     "start_time": "2024-11-05T08:38:16.020239",
     "status": "completed"
    },
    "tags": []
   },
   "outputs": [],
   "source": []
  }
 ],
 "metadata": {
  "kaggle": {
   "accelerator": "none",
   "dataSources": [
    {
     "datasetId": 2637,
     "sourceId": 4381,
     "sourceType": "datasetVersion"
    },
    {
     "datasetId": 16021,
     "sourceId": 21146,
     "sourceType": "datasetVersion"
    },
    {
     "datasetId": 786202,
     "sourceId": 1350864,
     "sourceType": "datasetVersion"
    },
    {
     "datasetId": 6004223,
     "sourceId": 9797305,
     "sourceType": "datasetVersion"
    },
    {
     "modelId": 154742,
     "modelInstanceId": 131944,
     "sourceId": 155291,
     "sourceType": "modelInstanceVersion"
    }
   ],
   "dockerImageVersionId": 30786,
   "isGpuEnabled": false,
   "isInternetEnabled": true,
   "language": "python",
   "sourceType": "notebook"
  },
  "kernelspec": {
   "display_name": "Python 3",
   "language": "python",
   "name": "python3"
  },
  "language_info": {
   "codemirror_mode": {
    "name": "ipython",
    "version": 3
   },
   "file_extension": ".py",
   "mimetype": "text/x-python",
   "name": "python",
   "nbconvert_exporter": "python",
   "pygments_lexer": "ipython3",
   "version": "3.10.14"
  },
  "papermill": {
   "default_parameters": {},
   "duration": 86.570488,
   "end_time": "2024-11-05T08:38:18.402916",
   "environment_variables": {},
   "exception": null,
   "input_path": "__notebook__.ipynb",
   "output_path": "__notebook__.ipynb",
   "parameters": {},
   "start_time": "2024-11-05T08:36:51.832428",
   "version": "2.6.0"
  }
 },
 "nbformat": 4,
 "nbformat_minor": 5
}
